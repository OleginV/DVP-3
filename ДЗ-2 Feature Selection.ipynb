{
 "cells": [
  {
   "cell_type": "markdown",
   "metadata": {},
   "source": [
    "# Домашняя работа\n",
    "\n",
    "**Задание к dataset \"Такси\"**\n",
    "\n",
    "Проверить, как разные типы преобразования категориальных переменных влияют на метрику **roc_auc_score.**\n",
    "Название функций:\n",
    "1. **get_one_hot**\n",
    "2. **get_target_share**\n",
    "3. **get_woe_v1**\n",
    "\n",
    "\n",
    "**Задание к dataset \"Медиа\"**\n",
    "1. Разделить dataset на train и test в соотношении 50:50 70:30 80:20 (с перемешиванием)\n",
    "2. Обучать наши модели на train. Предсказывать и замерять метрику R2 на train и на test.\n",
    "3. Проверить следующие модели для каждого разделения:\n",
    "a) Sales - log_tv + radio\n",
    "b) Sales - TV + radio\n",
    "c) Sales - radio + newspaper"
   ]
  },
  {
   "cell_type": "code",
   "execution_count": 1,
   "metadata": {},
   "outputs": [],
   "source": [
    "import pandas as pd\n",
    "import numpy as np\n",
    "import statsmodels.api as sm\n",
    "import statsmodels.formula.api as smf\n",
    "\n",
    "from sklearn import preprocessing\n",
    "from sklearn.preprocessing import StandardScaler, normalize, MinMaxScaler\n",
    "from sklearn.linear_model import LinearRegression\n",
    "from sklearn.ensemble import RandomForestClassifier\n",
    "from sklearn.model_selection import train_test_split\n",
    "from sklearn.metrics import roc_auc_score, roc_curve\n",
    "from sklearn.metrics import accuracy_score, r2_score, roc_auc_score, f1_score, precision_score, recall_score\n",
    "import math"
   ]
  },
  {
   "cell_type": "markdown",
   "metadata": {},
   "source": [
    "**Загрузка исходных данных**"
   ]
  },
  {
   "cell_type": "code",
   "execution_count": 2,
   "metadata": {},
   "outputs": [
    {
     "data": {
      "text/html": [
       "<div>\n",
       "<style scoped>\n",
       "    .dataframe tbody tr th:only-of-type {\n",
       "        vertical-align: middle;\n",
       "    }\n",
       "\n",
       "    .dataframe tbody tr th {\n",
       "        vertical-align: top;\n",
       "    }\n",
       "\n",
       "    .dataframe thead th {\n",
       "        text-align: right;\n",
       "    }\n",
       "</style>\n",
       "<table border=\"1\" class=\"dataframe\">\n",
       "  <thead>\n",
       "    <tr style=\"text-align: right;\">\n",
       "      <th></th>\n",
       "      <th>offer_gk</th>\n",
       "      <th>weekday_key</th>\n",
       "      <th>hour_key</th>\n",
       "      <th>driver_gk</th>\n",
       "      <th>order_gk</th>\n",
       "      <th>driver_latitude</th>\n",
       "      <th>driver_longitude</th>\n",
       "      <th>origin_order_latitude</th>\n",
       "      <th>origin_order_longitude</th>\n",
       "      <th>distance_km</th>\n",
       "      <th>duration_min</th>\n",
       "      <th>offer_class_group</th>\n",
       "      <th>ride_type_desc</th>\n",
       "      <th>driver_response</th>\n",
       "    </tr>\n",
       "  </thead>\n",
       "  <tbody>\n",
       "    <tr>\n",
       "      <th>0</th>\n",
       "      <td>1105373</td>\n",
       "      <td>5</td>\n",
       "      <td>20</td>\n",
       "      <td>6080</td>\n",
       "      <td>174182</td>\n",
       "      <td>55.818842</td>\n",
       "      <td>37.334562</td>\n",
       "      <td>55.814567</td>\n",
       "      <td>37.355010</td>\n",
       "      <td>-1.000</td>\n",
       "      <td>-1.000</td>\n",
       "      <td>Economy</td>\n",
       "      <td>private</td>\n",
       "      <td>0</td>\n",
       "    </tr>\n",
       "    <tr>\n",
       "      <th>1</th>\n",
       "      <td>759733</td>\n",
       "      <td>5</td>\n",
       "      <td>14</td>\n",
       "      <td>6080</td>\n",
       "      <td>358774</td>\n",
       "      <td>55.805342</td>\n",
       "      <td>37.515023</td>\n",
       "      <td>55.819329</td>\n",
       "      <td>37.466398</td>\n",
       "      <td>18.802</td>\n",
       "      <td>25.217</td>\n",
       "      <td>Standard</td>\n",
       "      <td>private</td>\n",
       "      <td>1</td>\n",
       "    </tr>\n",
       "    <tr>\n",
       "      <th>2</th>\n",
       "      <td>416977</td>\n",
       "      <td>6</td>\n",
       "      <td>14</td>\n",
       "      <td>6080</td>\n",
       "      <td>866260</td>\n",
       "      <td>55.813978</td>\n",
       "      <td>37.347688</td>\n",
       "      <td>55.814827</td>\n",
       "      <td>37.354074</td>\n",
       "      <td>6.747</td>\n",
       "      <td>9.800</td>\n",
       "      <td>Economy</td>\n",
       "      <td>private</td>\n",
       "      <td>0</td>\n",
       "    </tr>\n",
       "    <tr>\n",
       "      <th>3</th>\n",
       "      <td>889660</td>\n",
       "      <td>2</td>\n",
       "      <td>6</td>\n",
       "      <td>6080</td>\n",
       "      <td>163522</td>\n",
       "      <td>55.745922</td>\n",
       "      <td>37.421748</td>\n",
       "      <td>55.743469</td>\n",
       "      <td>37.431130</td>\n",
       "      <td>-1.000</td>\n",
       "      <td>-1.000</td>\n",
       "      <td>Economy</td>\n",
       "      <td>private</td>\n",
       "      <td>1</td>\n",
       "    </tr>\n",
       "    <tr>\n",
       "      <th>4</th>\n",
       "      <td>1120055</td>\n",
       "      <td>4</td>\n",
       "      <td>16</td>\n",
       "      <td>6080</td>\n",
       "      <td>506710</td>\n",
       "      <td>55.803578</td>\n",
       "      <td>37.521602</td>\n",
       "      <td>55.812559</td>\n",
       "      <td>37.527407</td>\n",
       "      <td>12.383</td>\n",
       "      <td>19.250</td>\n",
       "      <td>Economy</td>\n",
       "      <td>private</td>\n",
       "      <td>1</td>\n",
       "    </tr>\n",
       "  </tbody>\n",
       "</table>\n",
       "</div>"
      ],
      "text/plain": [
       "   offer_gk  weekday_key  hour_key  driver_gk  order_gk  driver_latitude  \\\n",
       "0   1105373            5        20       6080    174182        55.818842   \n",
       "1    759733            5        14       6080    358774        55.805342   \n",
       "2    416977            6        14       6080    866260        55.813978   \n",
       "3    889660            2         6       6080    163522        55.745922   \n",
       "4   1120055            4        16       6080    506710        55.803578   \n",
       "\n",
       "   driver_longitude  origin_order_latitude  origin_order_longitude  \\\n",
       "0         37.334562              55.814567               37.355010   \n",
       "1         37.515023              55.819329               37.466398   \n",
       "2         37.347688              55.814827               37.354074   \n",
       "3         37.421748              55.743469               37.431130   \n",
       "4         37.521602              55.812559               37.527407   \n",
       "\n",
       "   distance_km  duration_min offer_class_group ride_type_desc  driver_response  \n",
       "0       -1.000        -1.000           Economy        private                0  \n",
       "1       18.802        25.217          Standard        private                1  \n",
       "2        6.747         9.800           Economy        private                0  \n",
       "3       -1.000        -1.000           Economy        private                1  \n",
       "4       12.383        19.250           Economy        private                1  "
      ]
     },
     "execution_count": 2,
     "metadata": {},
     "output_type": "execute_result"
    }
   ],
   "source": [
    "taxi = pd.read_csv('taxi.csv')\n",
    "taxi.head()"
   ]
  },
  {
   "cell_type": "code",
   "execution_count": 3,
   "metadata": {
    "scrolled": true
   },
   "outputs": [
    {
     "name": "stdout",
     "output_type": "stream",
     "text": [
      "<class 'pandas.core.frame.DataFrame'>\n",
      "RangeIndex: 100000 entries, 0 to 99999\n",
      "Data columns (total 14 columns):\n",
      "offer_gk                  100000 non-null int64\n",
      "weekday_key               100000 non-null int64\n",
      "hour_key                  100000 non-null int64\n",
      "driver_gk                 100000 non-null int64\n",
      "order_gk                  100000 non-null int64\n",
      "driver_latitude           100000 non-null float64\n",
      "driver_longitude          100000 non-null float64\n",
      "origin_order_latitude     100000 non-null float64\n",
      "origin_order_longitude    100000 non-null float64\n",
      "distance_km               100000 non-null float64\n",
      "duration_min              100000 non-null float64\n",
      "offer_class_group         100000 non-null object\n",
      "ride_type_desc            100000 non-null object\n",
      "driver_response           100000 non-null int64\n",
      "dtypes: float64(6), int64(6), object(2)\n",
      "memory usage: 9.9+ MB\n"
     ]
    }
   ],
   "source": [
    "taxi.info()"
   ]
  },
  {
   "cell_type": "markdown",
   "metadata": {},
   "source": [
    "#### 1. Преобразование категориальной переменной с помощью get one hot"
   ]
  },
  {
   "cell_type": "code",
   "execution_count": 4,
   "metadata": {},
   "outputs": [
    {
     "data": {
      "text/html": [
       "<div>\n",
       "<style scoped>\n",
       "    .dataframe tbody tr th:only-of-type {\n",
       "        vertical-align: middle;\n",
       "    }\n",
       "\n",
       "    .dataframe tbody tr th {\n",
       "        vertical-align: top;\n",
       "    }\n",
       "\n",
       "    .dataframe thead th {\n",
       "        text-align: right;\n",
       "    }\n",
       "</style>\n",
       "<table border=\"1\" class=\"dataframe\">\n",
       "  <thead>\n",
       "    <tr style=\"text-align: right;\">\n",
       "      <th></th>\n",
       "      <th>offer_gk</th>\n",
       "      <th>weekday_key</th>\n",
       "      <th>hour_key</th>\n",
       "      <th>driver_gk</th>\n",
       "      <th>order_gk</th>\n",
       "      <th>driver_latitude</th>\n",
       "      <th>driver_longitude</th>\n",
       "      <th>origin_order_latitude</th>\n",
       "      <th>origin_order_longitude</th>\n",
       "      <th>distance_km</th>\n",
       "      <th>...</th>\n",
       "      <th>driver_response</th>\n",
       "      <th>offer_class_group_Delivery</th>\n",
       "      <th>offer_class_group_Economy</th>\n",
       "      <th>offer_class_group_Kids</th>\n",
       "      <th>offer_class_group_Premium</th>\n",
       "      <th>offer_class_group_Standard</th>\n",
       "      <th>offer_class_group_Test</th>\n",
       "      <th>offer_class_group_VIP</th>\n",
       "      <th>offer_class_group_VIP+</th>\n",
       "      <th>offer_class_group_XL</th>\n",
       "    </tr>\n",
       "  </thead>\n",
       "  <tbody>\n",
       "    <tr>\n",
       "      <th>0</th>\n",
       "      <td>1105373</td>\n",
       "      <td>5</td>\n",
       "      <td>20</td>\n",
       "      <td>6080</td>\n",
       "      <td>174182</td>\n",
       "      <td>55.818842</td>\n",
       "      <td>37.334562</td>\n",
       "      <td>55.814567</td>\n",
       "      <td>37.355010</td>\n",
       "      <td>-1.000</td>\n",
       "      <td>...</td>\n",
       "      <td>0</td>\n",
       "      <td>0</td>\n",
       "      <td>1</td>\n",
       "      <td>0</td>\n",
       "      <td>0</td>\n",
       "      <td>0</td>\n",
       "      <td>0</td>\n",
       "      <td>0</td>\n",
       "      <td>0</td>\n",
       "      <td>0</td>\n",
       "    </tr>\n",
       "    <tr>\n",
       "      <th>1</th>\n",
       "      <td>759733</td>\n",
       "      <td>5</td>\n",
       "      <td>14</td>\n",
       "      <td>6080</td>\n",
       "      <td>358774</td>\n",
       "      <td>55.805342</td>\n",
       "      <td>37.515023</td>\n",
       "      <td>55.819329</td>\n",
       "      <td>37.466398</td>\n",
       "      <td>18.802</td>\n",
       "      <td>...</td>\n",
       "      <td>1</td>\n",
       "      <td>0</td>\n",
       "      <td>0</td>\n",
       "      <td>0</td>\n",
       "      <td>0</td>\n",
       "      <td>1</td>\n",
       "      <td>0</td>\n",
       "      <td>0</td>\n",
       "      <td>0</td>\n",
       "      <td>0</td>\n",
       "    </tr>\n",
       "    <tr>\n",
       "      <th>2</th>\n",
       "      <td>416977</td>\n",
       "      <td>6</td>\n",
       "      <td>14</td>\n",
       "      <td>6080</td>\n",
       "      <td>866260</td>\n",
       "      <td>55.813978</td>\n",
       "      <td>37.347688</td>\n",
       "      <td>55.814827</td>\n",
       "      <td>37.354074</td>\n",
       "      <td>6.747</td>\n",
       "      <td>...</td>\n",
       "      <td>0</td>\n",
       "      <td>0</td>\n",
       "      <td>1</td>\n",
       "      <td>0</td>\n",
       "      <td>0</td>\n",
       "      <td>0</td>\n",
       "      <td>0</td>\n",
       "      <td>0</td>\n",
       "      <td>0</td>\n",
       "      <td>0</td>\n",
       "    </tr>\n",
       "    <tr>\n",
       "      <th>3</th>\n",
       "      <td>889660</td>\n",
       "      <td>2</td>\n",
       "      <td>6</td>\n",
       "      <td>6080</td>\n",
       "      <td>163522</td>\n",
       "      <td>55.745922</td>\n",
       "      <td>37.421748</td>\n",
       "      <td>55.743469</td>\n",
       "      <td>37.431130</td>\n",
       "      <td>-1.000</td>\n",
       "      <td>...</td>\n",
       "      <td>1</td>\n",
       "      <td>0</td>\n",
       "      <td>1</td>\n",
       "      <td>0</td>\n",
       "      <td>0</td>\n",
       "      <td>0</td>\n",
       "      <td>0</td>\n",
       "      <td>0</td>\n",
       "      <td>0</td>\n",
       "      <td>0</td>\n",
       "    </tr>\n",
       "    <tr>\n",
       "      <th>4</th>\n",
       "      <td>1120055</td>\n",
       "      <td>4</td>\n",
       "      <td>16</td>\n",
       "      <td>6080</td>\n",
       "      <td>506710</td>\n",
       "      <td>55.803578</td>\n",
       "      <td>37.521602</td>\n",
       "      <td>55.812559</td>\n",
       "      <td>37.527407</td>\n",
       "      <td>12.383</td>\n",
       "      <td>...</td>\n",
       "      <td>1</td>\n",
       "      <td>0</td>\n",
       "      <td>1</td>\n",
       "      <td>0</td>\n",
       "      <td>0</td>\n",
       "      <td>0</td>\n",
       "      <td>0</td>\n",
       "      <td>0</td>\n",
       "      <td>0</td>\n",
       "      <td>0</td>\n",
       "    </tr>\n",
       "  </tbody>\n",
       "</table>\n",
       "<p>5 rows × 21 columns</p>\n",
       "</div>"
      ],
      "text/plain": [
       "   offer_gk  weekday_key  hour_key  driver_gk  order_gk  driver_latitude  \\\n",
       "0   1105373            5        20       6080    174182        55.818842   \n",
       "1    759733            5        14       6080    358774        55.805342   \n",
       "2    416977            6        14       6080    866260        55.813978   \n",
       "3    889660            2         6       6080    163522        55.745922   \n",
       "4   1120055            4        16       6080    506710        55.803578   \n",
       "\n",
       "   driver_longitude  origin_order_latitude  origin_order_longitude  \\\n",
       "0         37.334562              55.814567               37.355010   \n",
       "1         37.515023              55.819329               37.466398   \n",
       "2         37.347688              55.814827               37.354074   \n",
       "3         37.421748              55.743469               37.431130   \n",
       "4         37.521602              55.812559               37.527407   \n",
       "\n",
       "   distance_km  ...  driver_response  offer_class_group_Delivery  \\\n",
       "0       -1.000  ...                0                           0   \n",
       "1       18.802  ...                1                           0   \n",
       "2        6.747  ...                0                           0   \n",
       "3       -1.000  ...                1                           0   \n",
       "4       12.383  ...                1                           0   \n",
       "\n",
       "   offer_class_group_Economy  offer_class_group_Kids  \\\n",
       "0                          1                       0   \n",
       "1                          0                       0   \n",
       "2                          1                       0   \n",
       "3                          1                       0   \n",
       "4                          1                       0   \n",
       "\n",
       "   offer_class_group_Premium  offer_class_group_Standard  \\\n",
       "0                          0                           0   \n",
       "1                          0                           1   \n",
       "2                          0                           0   \n",
       "3                          0                           0   \n",
       "4                          0                           0   \n",
       "\n",
       "   offer_class_group_Test  offer_class_group_VIP  offer_class_group_VIP+  \\\n",
       "0                       0                      0                       0   \n",
       "1                       0                      0                       0   \n",
       "2                       0                      0                       0   \n",
       "3                       0                      0                       0   \n",
       "4                       0                      0                       0   \n",
       "\n",
       "   offer_class_group_XL  \n",
       "0                     0  \n",
       "1                     0  \n",
       "2                     0  \n",
       "3                     0  \n",
       "4                     0  \n",
       "\n",
       "[5 rows x 21 columns]"
      ]
     },
     "execution_count": 4,
     "metadata": {},
     "output_type": "execute_result"
    }
   ],
   "source": [
    "# Преобразование категориальной переменной 'offer class group' с помощью метода 'get_one_hot'. \n",
    "# (Переменная 'ride_type_desc' была убрана с целью приведения дата-сета к единообразию в дальнейшей работе \\ \n",
    "# с другими методами преобразования переменных get_target_share и get_woe_v1, с целью последующего сравнения метрики roc_auc)\n",
    "df_one_hot = taxi.drop('ride_type_desc', axis=1)\n",
    "one_hot_df = pd.get_dummies(df_one_hot)\n",
    "one_hot_df.head()"
   ]
  },
  {
   "cell_type": "code",
   "execution_count": 5,
   "metadata": {},
   "outputs": [],
   "source": [
    "# Определение target, feature. Распределение данных на тренировочную и тестовую выборки.\n",
    "y=one_hot_df['driver_response'].copy()\n",
    "X=one_hot_df.drop('driver_response', axis=1)\n",
    "X_train, X_test, y_train, y_test = train_test_split(X, y, test_size=0.3, random_state=42)"
   ]
  },
  {
   "cell_type": "code",
   "execution_count": 6,
   "metadata": {},
   "outputs": [
    {
     "name": "stderr",
     "output_type": "stream",
     "text": [
      "C:\\ProgramData\\Anaconda3\\lib\\site-packages\\sklearn\\preprocessing\\data.py:645: DataConversionWarning: Data with input dtype uint8, int64, float64 were all converted to float64 by StandardScaler.\n",
      "  return self.partial_fit(X, y)\n",
      "C:\\ProgramData\\Anaconda3\\lib\\site-packages\\sklearn\\base.py:464: DataConversionWarning: Data with input dtype uint8, int64, float64 were all converted to float64 by StandardScaler.\n",
      "  return self.fit(X, **fit_params).transform(X)\n",
      "C:\\ProgramData\\Anaconda3\\lib\\site-packages\\ipykernel_launcher.py:4: DataConversionWarning: Data with input dtype uint8, int64, float64 were all converted to float64 by StandardScaler.\n",
      "  after removing the cwd from sys.path.\n",
      "C:\\ProgramData\\Anaconda3\\lib\\site-packages\\sklearn\\preprocessing\\data.py:645: DataConversionWarning: Data with input dtype uint8, int64, float64 were all converted to float64 by StandardScaler.\n",
      "  return self.partial_fit(X, y)\n",
      "C:\\ProgramData\\Anaconda3\\lib\\site-packages\\sklearn\\base.py:464: DataConversionWarning: Data with input dtype uint8, int64, float64 were all converted to float64 by StandardScaler.\n",
      "  return self.fit(X, **fit_params).transform(X)\n"
     ]
    }
   ],
   "source": [
    "# Стандартизация значений переменных\n",
    "scaler = StandardScaler()\n",
    "scaler.fit_transform(X_train)\n",
    "X_train_scaled = scaler.transform(X_train)\n",
    "X_test_scaled = scaler.fit_transform(X_test)"
   ]
  },
  {
   "cell_type": "code",
   "execution_count": 7,
   "metadata": {
    "scrolled": true
   },
   "outputs": [
    {
     "name": "stderr",
     "output_type": "stream",
     "text": [
      "C:\\ProgramData\\Anaconda3\\lib\\site-packages\\sklearn\\ensemble\\forest.py:246: FutureWarning: The default value of n_estimators will change from 10 in version 0.20 to 100 in 0.22.\n",
      "  \"10 in version 0.20 to 100 in 0.22.\", FutureWarning)\n"
     ]
    },
    {
     "name": "stdout",
     "output_type": "stream",
     "text": [
      "one_hot_roc_auc_Train:  1.0\n",
      "one_hot_roc_auc_Test:  0.85\n"
     ]
    }
   ],
   "source": [
    "# Модель RandomForestClassifier (случайный лес)\n",
    "RFC = RandomForestClassifier() # выбираем модель обучения (логистическая регрессия)\n",
    "RFC.fit(X_train, y_train) # обучаем модель\n",
    "\n",
    "y_pred_RFC_test = RFC.predict_proba(X_test)[:,1] # предсказание для train\n",
    "y_pred_RFC_train = RFC.predict_proba(X_train)[:,1] # предсказание для test\n",
    "\n",
    "roc_auc_test = np.round(roc_auc_score(y_test, y_pred_RFC_test), 2)\n",
    "roc_auc_train = np.round(roc_auc_score(y_train, y_pred_RFC_train), 2)\n",
    "\n",
    "print(\"one_hot_roc_auc_Train: \", roc_auc_train)\n",
    "print(\"one_hot_roc_auc_Test: \", roc_auc_test)"
   ]
  },
  {
   "cell_type": "markdown",
   "metadata": {},
   "source": [
    "#### 2. Преобразование категориальной переменной с помощью get_target_share"
   ]
  },
  {
   "cell_type": "code",
   "execution_count": 8,
   "metadata": {
    "scrolled": true
   },
   "outputs": [],
   "source": [
    "# Преобразование категориальной переменной 'offer class group' с помощью метода 'get_target_share'\n",
    "offer_class_group_dict = (\n",
    "    taxi[taxi['driver_response'] == 1]['offer_class_group'].value_counts()\n",
    "    /\n",
    "    taxi['offer_class_group'].value_counts()\n",
    ").to_dict()"
   ]
  },
  {
   "cell_type": "code",
   "execution_count": 9,
   "metadata": {},
   "outputs": [
    {
     "data": {
      "text/plain": [
       "0    0.439040\n",
       "1    0.523494\n",
       "2    0.439040\n",
       "3    0.439040\n",
       "4    0.439040\n",
       "Name: offer_class_group, dtype: float64"
      ]
     },
     "execution_count": 9,
     "metadata": {},
     "output_type": "execute_result"
    }
   ],
   "source": [
    "# Добавление новой преобразованной переменной в дата-сет\n",
    "taxi['offer_class_group'].apply(offer_class_group_dict.get).head()"
   ]
  },
  {
   "cell_type": "code",
   "execution_count": 10,
   "metadata": {},
   "outputs": [],
   "source": [
    "# Приведение дата-сета к единообразию, для сравнения метрики roc_auc\n",
    "taxi1 = taxi.drop('offer_class_group', axis=1)\n",
    "df_target = taxi1.drop('ride_type_desc', axis=1)"
   ]
  },
  {
   "cell_type": "code",
   "execution_count": 11,
   "metadata": {},
   "outputs": [],
   "source": [
    "# Определение target, feature. Распределение данных на тренировочную и тестовую выборки.\n",
    "y1=df_target['driver_response'].copy()\n",
    "X1=df_target.drop('driver_response', axis=1)\n",
    "X1_train, X1_test, y1_train, y1_test = train_test_split(X1, y1, test_size=0.3, random_state=42)"
   ]
  },
  {
   "cell_type": "code",
   "execution_count": 12,
   "metadata": {},
   "outputs": [
    {
     "name": "stderr",
     "output_type": "stream",
     "text": [
      "C:\\ProgramData\\Anaconda3\\lib\\site-packages\\sklearn\\preprocessing\\data.py:645: DataConversionWarning: Data with input dtype int64, float64 were all converted to float64 by StandardScaler.\n",
      "  return self.partial_fit(X, y)\n",
      "C:\\ProgramData\\Anaconda3\\lib\\site-packages\\sklearn\\base.py:464: DataConversionWarning: Data with input dtype int64, float64 were all converted to float64 by StandardScaler.\n",
      "  return self.fit(X, **fit_params).transform(X)\n",
      "C:\\ProgramData\\Anaconda3\\lib\\site-packages\\ipykernel_launcher.py:4: DataConversionWarning: Data with input dtype int64, float64 were all converted to float64 by StandardScaler.\n",
      "  after removing the cwd from sys.path.\n",
      "C:\\ProgramData\\Anaconda3\\lib\\site-packages\\sklearn\\preprocessing\\data.py:645: DataConversionWarning: Data with input dtype int64, float64 were all converted to float64 by StandardScaler.\n",
      "  return self.partial_fit(X, y)\n",
      "C:\\ProgramData\\Anaconda3\\lib\\site-packages\\sklearn\\base.py:464: DataConversionWarning: Data with input dtype int64, float64 were all converted to float64 by StandardScaler.\n",
      "  return self.fit(X, **fit_params).transform(X)\n"
     ]
    }
   ],
   "source": [
    "# Стандартизация значений переменных\n",
    "scaler = StandardScaler()\n",
    "scaler.fit_transform(X1_train)\n",
    "X1_train_scaled = scaler.transform(X1_train)\n",
    "X1_test_scaled = scaler.fit_transform(X1_test)"
   ]
  },
  {
   "cell_type": "code",
   "execution_count": 13,
   "metadata": {},
   "outputs": [
    {
     "name": "stderr",
     "output_type": "stream",
     "text": [
      "C:\\ProgramData\\Anaconda3\\lib\\site-packages\\sklearn\\ensemble\\forest.py:246: FutureWarning: The default value of n_estimators will change from 10 in version 0.20 to 100 in 0.22.\n",
      "  \"10 in version 0.20 to 100 in 0.22.\", FutureWarning)\n"
     ]
    },
    {
     "name": "stdout",
     "output_type": "stream",
     "text": [
      "RFC_target_roc_auc_Train:  1.0\n",
      "RFC_target_roc_auc_Test:  0.85\n"
     ]
    }
   ],
   "source": [
    "# Модель RandomForestClassifier (случайный лес)\n",
    "RFC_target = RandomForestClassifier() # выбираем модель обучения (логистическая регрессия)\n",
    "RFC_target.fit(X1_train, y1_train) # обучаем модель\n",
    "\n",
    "y1_pred_RFC_test = RFC_target.predict_proba(X1_test)[:,1] # предсказание для train\n",
    "y1_pred_RFC_train = RFC_target.predict_proba(X1_train)[:,1] # предсказание для test\n",
    "\n",
    "target_roc_auc_test = np.round(roc_auc_score(y1_test, y1_pred_RFC_test), 2)\n",
    "target_roc_auc_train = np.round(roc_auc_score(y1_train, y1_pred_RFC_train), 2)\n",
    "\n",
    "print(\"RFC_target_roc_auc_Train: \", target_roc_auc_train)\n",
    "print(\"RFC_target_roc_auc_Test: \", target_roc_auc_test)"
   ]
  },
  {
   "cell_type": "markdown",
   "metadata": {},
   "source": [
    "#### 3. Преобразование категориальной переменной с помощью get_woe_v1"
   ]
  },
  {
   "cell_type": "code",
   "execution_count": 14,
   "metadata": {},
   "outputs": [],
   "source": [
    "# Преобразование категориальной переменной 'offer class group' с помощью метода 'get_woe_v1'\n",
    "all_good = len(taxi[taxi['driver_response'] == 1]['offer_class_group'])\n",
    "all_bad = len(taxi[taxi['driver_response'] == 0]['offer_class_group'])\n",
    "odds_series = (taxi[taxi['driver_response'] == 1]['offer_class_group'].value_counts() / taxi[taxi['driver_response'] == 0]['offer_class_group'].value_counts())\n",
    "odd_series = odds_series = odds_series / all_good * all_bad\n",
    "category_woe_dict = np.log(odds_series).to_dict()"
   ]
  },
  {
   "cell_type": "code",
   "execution_count": 15,
   "metadata": {},
   "outputs": [],
   "source": [
    "# Добавление новой преобразованной переменной в дата-сет\n",
    "taxi['offer_class_group'] = taxi['offer_class_group'].apply(category_woe_dict.get)"
   ]
  },
  {
   "cell_type": "code",
   "execution_count": 16,
   "metadata": {},
   "outputs": [],
   "source": [
    "# Приведение дата-сета к единообразию, для сравнения метрики roc_auc\n",
    "taxi2 = taxi.drop('offer_class_group', axis=1)\n",
    "df_woe = taxi2.drop('ride_type_desc', axis=1)"
   ]
  },
  {
   "cell_type": "code",
   "execution_count": 17,
   "metadata": {},
   "outputs": [],
   "source": [
    "# Определение target, feature. Распределение данных на тренировочную и тестовую выборки.\n",
    "y2=df_woe['driver_response'].copy()\n",
    "X2=df_woe.drop('driver_response', axis=1)\n",
    "X2_train, X2_test, y2_train, y2_test = train_test_split(X2, y2, test_size=0.3, random_state=42)"
   ]
  },
  {
   "cell_type": "code",
   "execution_count": 18,
   "metadata": {},
   "outputs": [
    {
     "name": "stderr",
     "output_type": "stream",
     "text": [
      "C:\\ProgramData\\Anaconda3\\lib\\site-packages\\sklearn\\preprocessing\\data.py:645: DataConversionWarning: Data with input dtype int64, float64 were all converted to float64 by StandardScaler.\n",
      "  return self.partial_fit(X, y)\n",
      "C:\\ProgramData\\Anaconda3\\lib\\site-packages\\sklearn\\base.py:464: DataConversionWarning: Data with input dtype int64, float64 were all converted to float64 by StandardScaler.\n",
      "  return self.fit(X, **fit_params).transform(X)\n",
      "C:\\ProgramData\\Anaconda3\\lib\\site-packages\\ipykernel_launcher.py:4: DataConversionWarning: Data with input dtype int64, float64 were all converted to float64 by StandardScaler.\n",
      "  after removing the cwd from sys.path.\n",
      "C:\\ProgramData\\Anaconda3\\lib\\site-packages\\sklearn\\preprocessing\\data.py:645: DataConversionWarning: Data with input dtype int64, float64 were all converted to float64 by StandardScaler.\n",
      "  return self.partial_fit(X, y)\n",
      "C:\\ProgramData\\Anaconda3\\lib\\site-packages\\sklearn\\base.py:464: DataConversionWarning: Data with input dtype int64, float64 were all converted to float64 by StandardScaler.\n",
      "  return self.fit(X, **fit_params).transform(X)\n"
     ]
    }
   ],
   "source": [
    "# Стандартизация значений переменных\n",
    "scaler = StandardScaler()\n",
    "scaler.fit_transform(X2_train)\n",
    "X2_train_scaled = scaler.transform(X2_train)\n",
    "X2_test_scaled = scaler.fit_transform(X2_test)"
   ]
  },
  {
   "cell_type": "code",
   "execution_count": 19,
   "metadata": {},
   "outputs": [
    {
     "name": "stderr",
     "output_type": "stream",
     "text": [
      "C:\\ProgramData\\Anaconda3\\lib\\site-packages\\sklearn\\ensemble\\forest.py:246: FutureWarning: The default value of n_estimators will change from 10 in version 0.20 to 100 in 0.22.\n",
      "  \"10 in version 0.20 to 100 in 0.22.\", FutureWarning)\n"
     ]
    },
    {
     "name": "stdout",
     "output_type": "stream",
     "text": [
      "RFC_woe_roc_auc_Train:  1.0\n",
      "RFC_woe_roc_auc_Test:  0.85\n"
     ]
    }
   ],
   "source": [
    "# Модель RandomForestClassifier (случайный лес)\n",
    "RFC_woe = RandomForestClassifier() # выбираем модель обучения (логистическая регрессия)\n",
    "RFC_woe.fit(X1_train, y1_train) # обучаем модель\n",
    "\n",
    "y2_pred_RFC_test = RFC_woe.predict_proba(X1_test)[:,1] # предсказание для train\n",
    "y2_pred_RFC_train = RFC_woe.predict_proba(X1_train)[:,1] # предсказание для test\n",
    "\n",
    "woe_roc_auc_test = np.round(roc_auc_score(y2_test, y2_pred_RFC_test), 2)\n",
    "woe_roc_auc_train = np.round(roc_auc_score(y2_train, y2_pred_RFC_train), 2)\n",
    "\n",
    "print(\"RFC_woe_roc_auc_Train: \", target_roc_auc_train)\n",
    "print(\"RFC_woe_roc_auc_Test: \", target_roc_auc_test)"
   ]
  },
  {
   "cell_type": "code",
   "execution_count": 20,
   "metadata": {},
   "outputs": [
    {
     "name": "stdout",
     "output_type": "stream",
     "text": [
      "one_hot_roc_auc_Train:  1.0\n",
      "target_share_roc_auc_Train:  1.0\n",
      "woe_roc_auc_Train:  1.0\n",
      "\n",
      "one_hot_roc_auc_Test:  0.85\n",
      "target_share_roc_auc_Test:  0.85\n",
      "woe_roc_auc_Test:  0.85\n"
     ]
    }
   ],
   "source": [
    "print(\"one_hot_roc_auc_Train: \", roc_auc_train)\n",
    "print(\"target_share_roc_auc_Train: \", target_roc_auc_train)\n",
    "print(\"woe_roc_auc_Train: \", target_roc_auc_train)\n",
    "print(\"\")\n",
    "print(\"one_hot_roc_auc_Test: \", roc_auc_test)\n",
    "print(\"target_share_roc_auc_Test: \", target_roc_auc_test)\n",
    "print(\"woe_roc_auc_Test: \", target_roc_auc_test)"
   ]
  },
  {
   "cell_type": "markdown",
   "metadata": {},
   "source": [
    "**Изменение методов преобразования категориальных переменных не повлияло на изменение метрики roc_auc.**"
   ]
  },
  {
   "cell_type": "markdown",
   "metadata": {},
   "source": [
    "### Задание к dataset \"Медиа\""
   ]
  },
  {
   "cell_type": "markdown",
   "metadata": {},
   "source": [
    "**Загрузка исходных данных**"
   ]
  },
  {
   "cell_type": "code",
   "execution_count": 21,
   "metadata": {},
   "outputs": [
    {
     "data": {
      "text/html": [
       "<div>\n",
       "<style scoped>\n",
       "    .dataframe tbody tr th:only-of-type {\n",
       "        vertical-align: middle;\n",
       "    }\n",
       "\n",
       "    .dataframe tbody tr th {\n",
       "        vertical-align: top;\n",
       "    }\n",
       "\n",
       "    .dataframe thead th {\n",
       "        text-align: right;\n",
       "    }\n",
       "</style>\n",
       "<table border=\"1\" class=\"dataframe\">\n",
       "  <thead>\n",
       "    <tr style=\"text-align: right;\">\n",
       "      <th></th>\n",
       "      <th>TV</th>\n",
       "      <th>radio</th>\n",
       "      <th>newspaper</th>\n",
       "      <th>sales</th>\n",
       "    </tr>\n",
       "  </thead>\n",
       "  <tbody>\n",
       "    <tr>\n",
       "      <th>0</th>\n",
       "      <td>230.1</td>\n",
       "      <td>37.8</td>\n",
       "      <td>69.2</td>\n",
       "      <td>22.1</td>\n",
       "    </tr>\n",
       "    <tr>\n",
       "      <th>1</th>\n",
       "      <td>44.5</td>\n",
       "      <td>39.3</td>\n",
       "      <td>45.1</td>\n",
       "      <td>10.4</td>\n",
       "    </tr>\n",
       "    <tr>\n",
       "      <th>2</th>\n",
       "      <td>17.2</td>\n",
       "      <td>45.9</td>\n",
       "      <td>69.3</td>\n",
       "      <td>9.3</td>\n",
       "    </tr>\n",
       "    <tr>\n",
       "      <th>3</th>\n",
       "      <td>151.5</td>\n",
       "      <td>41.3</td>\n",
       "      <td>58.5</td>\n",
       "      <td>18.5</td>\n",
       "    </tr>\n",
       "    <tr>\n",
       "      <th>4</th>\n",
       "      <td>180.8</td>\n",
       "      <td>10.8</td>\n",
       "      <td>58.4</td>\n",
       "      <td>12.9</td>\n",
       "    </tr>\n",
       "  </tbody>\n",
       "</table>\n",
       "</div>"
      ],
      "text/plain": [
       "      TV  radio  newspaper  sales\n",
       "0  230.1   37.8       69.2   22.1\n",
       "1   44.5   39.3       45.1   10.4\n",
       "2   17.2   45.9       69.3    9.3\n",
       "3  151.5   41.3       58.5   18.5\n",
       "4  180.8   10.8       58.4   12.9"
      ]
     },
     "execution_count": 21,
     "metadata": {},
     "output_type": "execute_result"
    }
   ],
   "source": [
    "media = pd.read_csv('Advertising.csv')\n",
    "media = media.drop('Unnamed: 0', axis = 1)\n",
    "media.head()"
   ]
  },
  {
   "cell_type": "code",
   "execution_count": 22,
   "metadata": {},
   "outputs": [
    {
     "name": "stdout",
     "output_type": "stream",
     "text": [
      "<class 'pandas.core.frame.DataFrame'>\n",
      "RangeIndex: 200 entries, 0 to 199\n",
      "Data columns (total 4 columns):\n",
      "TV           200 non-null float64\n",
      "radio        200 non-null float64\n",
      "newspaper    200 non-null float64\n",
      "sales        200 non-null float64\n",
      "dtypes: float64(4)\n",
      "memory usage: 6.3 KB\n"
     ]
    }
   ],
   "source": [
    "media.info()"
   ]
  },
  {
   "cell_type": "code",
   "execution_count": 23,
   "metadata": {},
   "outputs": [],
   "source": [
    "media['log_tv'] = media.TV.apply(lambda x: math.log(x, 2))"
   ]
  },
  {
   "cell_type": "markdown",
   "metadata": {},
   "source": [
    "**Разделить dataset на train и test в соотношении 50:50 70:30 80:20 (с перемешиванием)**"
   ]
  },
  {
   "cell_type": "code",
   "execution_count": 24,
   "metadata": {},
   "outputs": [],
   "source": [
    "# Определение target, feature. Распределение данных на тренировочную и тестовую выборки (50:50).\n",
    "X_train, X_test, y_train, y_test = train_test_split(\\\n",
    "media[['TV', 'radio', 'newspaper', 'log_tv']], media['sales'], test_size=0.5)"
   ]
  },
  {
   "cell_type": "code",
   "execution_count": 25,
   "metadata": {},
   "outputs": [],
   "source": [
    "# Определение target, feature. Распределение данных на тренировочную и тестовую выборки (70:30).\n",
    "X1_train, X1_test, y1_train, y1_test = train_test_split(\\\n",
    "media[['TV', 'radio', 'newspaper', 'log_tv']], media['sales'], test_size=0.3)"
   ]
  },
  {
   "cell_type": "code",
   "execution_count": 26,
   "metadata": {},
   "outputs": [],
   "source": [
    "# Определение target, feature. Распределение данных на тренировочную и тестовую выборки (80:20).\n",
    "X2_train, X2_test, y2_train, y2_test = train_test_split(\\\n",
    "media[['TV', 'radio', 'newspaper', 'log_tv']], media['sales'], test_size=0.2)"
   ]
  },
  {
   "cell_type": "markdown",
   "metadata": {},
   "source": [
    "**Обучать наши модели на train. Предсказывать и замерять метрику R2 на train и на test.**"
   ]
  },
  {
   "cell_type": "code",
   "execution_count": 27,
   "metadata": {},
   "outputs": [
    {
     "name": "stdout",
     "output_type": "stream",
     "text": [
      "R^2_test (50_50): 0.93\n",
      "R^2_train (50_50): 0.93\n"
     ]
    }
   ],
   "source": [
    "# Обучение модели на train. Предсказание и замер метрики R^2 на train и на test (Выборка 50:50)\n",
    "# Обучение модели на train.\n",
    "reg_50_50 = LinearRegression().fit(X_train, y_train)\n",
    "\n",
    "# Предсказание target на train и на test\n",
    "y_predict_test_50_50 = reg_50_50.predict(X_test)\n",
    "y_predict_train_50_50 = reg_50_50.predict(X_train)\n",
    "\n",
    "# Замер метрики R^2 на train и на test\n",
    "r2_score_test_50_50 = r2_score(y_test, y_predict_test_50_50.round())\n",
    "r2_score_train_50_50 = r2_score(y_train, y_predict_train_50_50.round())\n",
    "print(f'R^2_test (50_50): {r2_score_test_50_50:.2f}')\n",
    "print(f'R^2_train (50_50): {r2_score_train_50_50:.2f}')"
   ]
  },
  {
   "cell_type": "code",
   "execution_count": 28,
   "metadata": {},
   "outputs": [
    {
     "name": "stdout",
     "output_type": "stream",
     "text": [
      "R^2_test (70_30): 0.91\n",
      "R^2_train (70_30): 0.94\n"
     ]
    }
   ],
   "source": [
    "# Обучение модели на train. Предсказание и замер метрики R^2 на train и на test (Выборка 70:30)\n",
    "# Обучение модели на train.\n",
    "reg_70_30 = LinearRegression().fit(X1_train, y1_train)\n",
    "\n",
    "# Предсказание target на train и на test\n",
    "y_predict_test_70_30 = reg_70_30.predict(X1_test)\n",
    "y_predict_train_70_30 = reg_70_30.predict(X1_train)\n",
    "\n",
    "# Замер метрики R^2 на train и на test\n",
    "r2_score_test_70_30 = r2_score(y1_test, y_predict_test_70_30.round())\n",
    "r2_score_train_70_30 = r2_score(y1_train, y_predict_train_70_30.round())\n",
    "print(f'R^2_test (70_30): {r2_score_test_70_30:.2f}')\n",
    "print(f'R^2_train (70_30): {r2_score_train_70_30:.2f}')"
   ]
  },
  {
   "cell_type": "code",
   "execution_count": 29,
   "metadata": {},
   "outputs": [
    {
     "name": "stdout",
     "output_type": "stream",
     "text": [
      "R^2_test (80_20): 0.94\n",
      "R^2_train (80_20): 0.93\n"
     ]
    }
   ],
   "source": [
    "# Обучение модели на train. Предсказание и замер метрики R^2 на train и на test (Выборка 80:20)\n",
    "# Обучение модели на train.\n",
    "reg_80_20 = LinearRegression().fit(X2_train, y2_train)\n",
    "\n",
    "# Предсказание target на train и на test\n",
    "y_predict_test_80_20 = reg_80_20.predict(X2_test)\n",
    "y_predict_train_80_20 = reg_80_20.predict(X2_train)\n",
    "\n",
    "# Замер метрики R^2 на train и на test\n",
    "r2_score_test_80_20 = r2_score(y2_test, y_predict_test_80_20.round())\n",
    "r2_score_train_80_20 = r2_score(y2_train, y_predict_train_80_20.round())\n",
    "print(f'R^2_test (80_20): {r2_score_test_80_20:.2f}')\n",
    "print(f'R^2_train (80_20): {r2_score_train_80_20:.2f}')"
   ]
  },
  {
   "cell_type": "markdown",
   "metadata": {},
   "source": [
    "**Проверить следующие модели для каждого разделения:**\n",
    "1. sales ~ log_tv + radio\n",
    "2. sales ~ TV + radio\n",
    "3. sales ~ radio + newspaper"
   ]
  },
  {
   "cell_type": "markdown",
   "metadata": {},
   "source": [
    "**1. Разделение:** ***sales ~ log_tv + radio***"
   ]
  },
  {
   "cell_type": "code",
   "execution_count": 30,
   "metadata": {},
   "outputs": [],
   "source": [
    "# Определение target, feature. Распределение данных на тренировочную и тестовую выборки\n",
    "# (50:50).\n",
    "X_train, X_test, y_train, y_test = train_test_split(\\\n",
    "media[['radio', 'log_tv']], media['sales'], test_size=0.5, random_state=42)\n",
    "\n",
    "# (70:30).\n",
    "X1_train, X1_test, y1_train, y1_test = train_test_split(\\\n",
    "media[['radio', 'log_tv']], media['sales'], test_size=0.3, random_state=42)\n",
    "\n",
    "# (80:20).\n",
    "X2_train, X2_test, y2_train, y2_test = train_test_split(\\\n",
    "media[['radio', 'log_tv']], media['sales'], test_size=0.2, random_state=42)"
   ]
  },
  {
   "cell_type": "code",
   "execution_count": 31,
   "metadata": {},
   "outputs": [
    {
     "name": "stdout",
     "output_type": "stream",
     "text": [
      "R^2_test (50_50): 0.90\n",
      "R^2_train (50_50): 0.91\n",
      "\n",
      "R^2_test (70_30): 0.91\n",
      "R^2_train (70_30): 0.90\n",
      "\n",
      "R^2_test (80_20): 0.92\n",
      "R^2_train (80_20): 0.90\n"
     ]
    }
   ],
   "source": [
    "# Обучение модели на train. Предсказание и замер метрики R^2 на train и на test \n",
    "\n",
    "#(Выборка 50:50)\n",
    "# Обучение модели на train.\n",
    "reg_50_50 = LinearRegression().fit(X_train, y_train)\n",
    "# Предсказание target на train и на test\n",
    "y_predict_test_50_50 = reg_50_50.predict(X_test)\n",
    "y_predict_train_50_50 = reg_50_50.predict(X_train)\n",
    "# Замер метрики R^2 на train и на test\n",
    "r2_score_test_50_50 = r2_score(y_test, y_predict_test_50_50.round())\n",
    "r2_score_train_50_50 = r2_score(y_train, y_predict_train_50_50.round())\n",
    "\n",
    "# (Выборка 70:30)\n",
    "# Обучение модели на train.\n",
    "reg_70_30 = LinearRegression().fit(X1_train, y1_train)\n",
    "# Предсказание target на train и на test\n",
    "y_predict_test_70_30 = reg_70_30.predict(X1_test)\n",
    "y_predict_train_70_30 = reg_70_30.predict(X1_train)\n",
    "# Замер метрики R^2 на train и на test\n",
    "r2_score_test_70_30 = r2_score(y1_test, y_predict_test_70_30.round())\n",
    "r2_score_train_70_30 = r2_score(y1_train, y_predict_train_70_30.round())\n",
    "\n",
    "\n",
    "# (Выборка 80:20)\n",
    "# Обучение модели на train.\n",
    "reg_80_20 = LinearRegression().fit(X2_train, y2_train)\n",
    "# Предсказание target на train и на test\n",
    "y_predict_test_80_20 = reg_80_20.predict(X2_test)\n",
    "y_predict_train_80_20 = reg_80_20.predict(X2_train)\n",
    "# Замер метрики R^2 на train и на test\n",
    "r2_score_test_80_20 = r2_score(y2_test, y_predict_test_80_20.round())\n",
    "r2_score_train_80_20 = r2_score(y2_train, y_predict_train_80_20.round())\n",
    "\n",
    "# Вывод результатов по метрике R^2\n",
    "print(f'R^2_test (50_50): {r2_score_test_50_50:.2f}')\n",
    "print(f'R^2_train (50_50): {r2_score_train_50_50:.2f}')\n",
    "print('')\n",
    "print(f'R^2_test (70_30): {r2_score_test_70_30:.2f}')\n",
    "print(f'R^2_train (70_30): {r2_score_train_70_30:.2f}')\n",
    "print('')\n",
    "print(f'R^2_test (80_20): {r2_score_test_80_20:.2f}')\n",
    "print(f'R^2_train (80_20): {r2_score_train_80_20:.2f}')"
   ]
  },
  {
   "cell_type": "markdown",
   "metadata": {},
   "source": [
    "**2. Разделение:** ***sales ~ TV + radio***"
   ]
  },
  {
   "cell_type": "code",
   "execution_count": 32,
   "metadata": {},
   "outputs": [],
   "source": [
    "# Определение target, feature. Распределение данных на тренировочную и тестовую выборки\n",
    "# (50:50).\n",
    "X_train, X_test, y_train, y_test = train_test_split(\\\n",
    "media[['TV', 'radio']], media['sales'], test_size=0.5, random_state=42)\n",
    "\n",
    "# (70:30).\n",
    "X1_train, X1_test, y1_train, y1_test = train_test_split(\\\n",
    "media[['TV', 'radio']], media['sales'], test_size=0.3, random_state=42)\n",
    "\n",
    "# (80:20).\n",
    "X2_train, X2_test, y2_train, y2_test = train_test_split(\\\n",
    "media[['TV', 'radio']], media['sales'], test_size=0.2, random_state=42)"
   ]
  },
  {
   "cell_type": "code",
   "execution_count": 33,
   "metadata": {},
   "outputs": [
    {
     "name": "stdout",
     "output_type": "stream",
     "text": [
      "R^2_test (50_50): 0.88\n",
      "R^2_train (50_50): 0.90\n",
      "\n",
      "R^2_test (70_30): 0.86\n",
      "R^2_train (70_30): 0.90\n",
      "\n",
      "R^2_test (80_20): 0.90\n",
      "R^2_train (80_20): 0.89\n"
     ]
    }
   ],
   "source": [
    "# Обучение модели на train. Предсказание и замер метрики R^2 на train и на test \n",
    "\n",
    "#(Выборка 50:50)\n",
    "# Обучение модели на train.\n",
    "reg_50_50 = LinearRegression().fit(X_train, y_train)\n",
    "# Предсказание target на train и на test\n",
    "y_predict_test_50_50 = reg_50_50.predict(X_test)\n",
    "y_predict_train_50_50 = reg_50_50.predict(X_train)\n",
    "# Замер метрики R^2 на train и на test\n",
    "r2_score_test_50_50 = r2_score(y_test, y_predict_test_50_50.round())\n",
    "r2_score_train_50_50 = r2_score(y_train, y_predict_train_50_50.round())\n",
    "\n",
    "# (Выборка 70:30)\n",
    "# Обучение модели на train.\n",
    "reg_70_30 = LinearRegression().fit(X1_train, y1_train)\n",
    "# Предсказание target на train и на test\n",
    "y_predict_test_70_30 = reg_70_30.predict(X1_test)\n",
    "y_predict_train_70_30 = reg_70_30.predict(X1_train)\n",
    "# Замер метрики R^2 на train и на test\n",
    "r2_score_test_70_30 = r2_score(y1_test, y_predict_test_70_30.round())\n",
    "r2_score_train_70_30 = r2_score(y1_train, y_predict_train_70_30.round())\n",
    "\n",
    "\n",
    "# (Выборка 80:20)\n",
    "# Обучение модели на train.\n",
    "reg_80_20 = LinearRegression().fit(X2_train, y2_train)\n",
    "# Предсказание target на train и на test\n",
    "y_predict_test_80_20 = reg_80_20.predict(X2_test)\n",
    "y_predict_train_80_20 = reg_80_20.predict(X2_train)\n",
    "# Замер метрики R^2 на train и на test\n",
    "r2_score_test_80_20 = r2_score(y2_test, y_predict_test_80_20.round())\n",
    "r2_score_train_80_20 = r2_score(y2_train, y_predict_train_80_20.round())\n",
    "\n",
    "# Вывод результатов по метрике R^2\n",
    "print(f'R^2_test (50_50): {r2_score_test_50_50:.2f}')\n",
    "print(f'R^2_train (50_50): {r2_score_train_50_50:.2f}')\n",
    "print('')\n",
    "print(f'R^2_test (70_30): {r2_score_test_70_30:.2f}')\n",
    "print(f'R^2_train (70_30): {r2_score_train_70_30:.2f}')\n",
    "print('')\n",
    "print(f'R^2_test (80_20): {r2_score_test_80_20:.2f}')\n",
    "print(f'R^2_train (80_20): {r2_score_train_80_20:.2f}')"
   ]
  },
  {
   "cell_type": "markdown",
   "metadata": {},
   "source": [
    "**3. Разделение:** ***sales ~ radio + newspaper***"
   ]
  },
  {
   "cell_type": "code",
   "execution_count": 34,
   "metadata": {},
   "outputs": [],
   "source": [
    "# Определение target, feature. Распределение данных на тренировочную и тестовую выборки\n",
    "# (50:50).\n",
    "X_train, X_test, y_train, y_test = train_test_split(\\\n",
    "media[['radio', 'newspaper']], media['sales'], test_size=0.5, random_state=42)\n",
    "\n",
    "# (70:30).\n",
    "X1_train, X1_test, y1_train, y1_test = train_test_split(\\\n",
    "media[['radio', 'newspaper']], media['sales'], test_size=0.3, random_state=42)\n",
    "\n",
    "# (80:20).\n",
    "X2_train, X2_test, y2_train, y2_test = train_test_split(\\\n",
    "media[['radio', 'newspaper']], media['sales'], test_size=0.2, random_state=42)"
   ]
  },
  {
   "cell_type": "code",
   "execution_count": 35,
   "metadata": {},
   "outputs": [
    {
     "name": "stdout",
     "output_type": "stream",
     "text": [
      "R^2_test (50_50): 0.14\n",
      "R^2_train (50_50): 0.46\n",
      "\n",
      "R^2_test (70_30): 0.13\n",
      "R^2_train (70_30): 0.39\n",
      "\n",
      "R^2_test (80_20): 0.25\n",
      "R^2_train (80_20): 0.34\n"
     ]
    }
   ],
   "source": [
    "# Обучение модели на train. Предсказание и замер метрики R^2 на train и на test \n",
    "\n",
    "#(Выборка 50:50)\n",
    "# Обучение модели на train.\n",
    "reg_50_50 = LinearRegression().fit(X_train, y_train)\n",
    "# Предсказание target на train и на test\n",
    "y_predict_test_50_50 = reg_50_50.predict(X_test)\n",
    "y_predict_train_50_50 = reg_50_50.predict(X_train)\n",
    "# Замер метрики R^2 на train и на test\n",
    "r2_score_test_50_50 = r2_score(y_test, y_predict_test_50_50.round())\n",
    "r2_score_train_50_50 = r2_score(y_train, y_predict_train_50_50.round())\n",
    "\n",
    "# (Выборка 70:30)\n",
    "# Обучение модели на train.\n",
    "reg_70_30 = LinearRegression().fit(X1_train, y1_train)\n",
    "# Предсказание target на train и на test\n",
    "y_predict_test_70_30 = reg_70_30.predict(X1_test)\n",
    "y_predict_train_70_30 = reg_70_30.predict(X1_train)\n",
    "# Замер метрики R^2 на train и на test\n",
    "r2_score_test_70_30 = r2_score(y1_test, y_predict_test_70_30.round())\n",
    "r2_score_train_70_30 = r2_score(y1_train, y_predict_train_70_30.round())\n",
    "\n",
    "\n",
    "# (Выборка 80:20)\n",
    "# Обучение модели на train.\n",
    "reg_80_20 = LinearRegression().fit(X2_train, y2_train)\n",
    "# Предсказание target на train и на test\n",
    "y_predict_test_80_20 = reg_80_20.predict(X2_test)\n",
    "y_predict_train_80_20 = reg_80_20.predict(X2_train)\n",
    "# Замер метрики R^2 на train и на test\n",
    "r2_score_test_80_20 = r2_score(y2_test, y_predict_test_80_20.round())\n",
    "r2_score_train_80_20 = r2_score(y2_train, y_predict_train_80_20.round())\n",
    "\n",
    "# Вывод результатов по метрике R^2\n",
    "print(f'R^2_test (50_50): {r2_score_test_50_50:.2f}')\n",
    "print(f'R^2_train (50_50): {r2_score_train_50_50:.2f}')\n",
    "print('')\n",
    "print(f'R^2_test (70_30): {r2_score_test_70_30:.2f}')\n",
    "print(f'R^2_train (70_30): {r2_score_train_70_30:.2f}')\n",
    "print('')\n",
    "print(f'R^2_test (80_20): {r2_score_test_80_20:.2f}')\n",
    "print(f'R^2_train (80_20): {r2_score_train_80_20:.2f}')"
   ]
  },
  {
   "cell_type": "markdown",
   "metadata": {},
   "source": [
    "**Ссылка на репозиторий:** https://github.com/OleginV/DVP-3\n",
    "\n",
    "**Название блокнота:** ДЗ-2 Feature Selection.ipynb"
   ]
  }
 ],
 "metadata": {
  "kernelspec": {
   "display_name": "Python 3",
   "language": "python",
   "name": "python3"
  },
  "language_info": {
   "codemirror_mode": {
    "name": "ipython",
    "version": 3
   },
   "file_extension": ".py",
   "mimetype": "text/x-python",
   "name": "python",
   "nbconvert_exporter": "python",
   "pygments_lexer": "ipython3",
   "version": "3.7.3"
  }
 },
 "nbformat": 4,
 "nbformat_minor": 2
}
